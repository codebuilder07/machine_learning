{
 "cells": [
  {
   "cell_type": "markdown",
   "metadata": {
    "id": "3DmovDPQiRVk"
   },
   "source": [
    "<img src=\"../src/packt-banner.png\" alt=\"\">"
   ]
  },
  {
   "cell_type": "markdown",
   "metadata": {
    "id": "9H8uihfMiRVl"
   },
   "source": [
    "### Exercise 3: Build a SVM modle for Face Recognition Problem\n",
    "##### (25 points) --> your total will divided by 5 to get 5 points for this exercise.\n",
    "---\n",
    "\n",
    "We will use a very famous dataset, called Labelled Faces in the Wild, which\n",
    "consists of 1288 faces of famous people, and it is available at http://viswww.cs.umass.edu/lfw/lfw-funneled.tgz. \n",
    "\n",
    "However, note that it can be easily imported via scikit-learn from the datasets class.\n",
    "Each image consists of 1850 features: we could proceed by simply using each of them in the model.\n",
    "\n",
    "\n",
    "\n",
    "Fitting a SVM to non-linear data using the Kernel Trick produces non- linear decision boundaries.\n",
    "In particular, we seek to:\n",
    "* Build SVM model with radial basis function (RBF) kernel\n",
    "* Use a grid search cross-validation to explore ran- dom combinations of parameters."
   ]
  },
  {
   "cell_type": "markdown",
   "metadata": {
    "id": "fbRs9RcSiRVm"
   },
   "source": [
    "### Step to do:"
   ]
  },
  {
   "cell_type": "markdown",
   "metadata": {
    "id": "yA69w-NCiRVm"
   },
   "source": [
    "1. Loading the dataf from sklearn.datasets:"
   ]
  },
  {
   "cell_type": "code",
   "execution_count": 1,
   "metadata": {
    "id": "xvNZ5wqCiRVm"
   },
   "outputs": [],
   "source": [
    "from sklearn.datasets import fetch_lfw_people\n",
    "faces = fetch_lfw_people(min_faces_per_person=60)"
   ]
  },
  {
   "cell_type": "markdown",
   "metadata": {
    "id": "0zIW98ZwiRVn"
   },
   "source": [
    "2. Since the data can be accessed from the sklearn.datasets module, you need to explore the dataset. \n",
    "    - (refer to the first 6 steps in Lab_1 could help you)"
   ]
  },
  {
   "cell_type": "markdown",
   "metadata": {
    "id": "JKoEXz5SiRVn"
   },
   "source": [
    "a- Print the field names (that is, the keys to the dictionary) (1 point)"
   ]
  },
  {
   "cell_type": "code",
   "execution_count": 2,
   "metadata": {
    "id": "uXsLKXCkiRVn",
    "outputId": "4f6594ef-b646-4589-f37f-559ce778080b"
   },
   "outputs": [
    {
     "data": {
      "text/plain": [
       "dict_keys(['data', 'images', 'target', 'target_names', 'DESCR'])"
      ]
     },
     "execution_count": 2,
     "metadata": {},
     "output_type": "execute_result"
    }
   ],
   "source": [
    "# What fields are in the dictionary?\n",
    "faces.keys()"
   ]
  },
  {
   "cell_type": "markdown",
   "metadata": {
    "id": "54pDCtAdiRVo"
   },
   "source": [
    "b- Print the dataset description contained (2 point)"
   ]
  },
  {
   "cell_type": "code",
   "execution_count": 3,
   "metadata": {
    "id": "VqZ1_4IsiRVo"
   },
   "outputs": [
    {
     "name": "stdout",
     "output_type": "stream",
     "text": [
      ".. _labeled_faces_in_the_wild_dataset:\n",
      "\n",
      "The Labeled Faces in the Wild face recognition dataset\n",
      "------------------------------------------------------\n",
      "\n",
      "This dataset is a collection of JPEG pictures of famous people collected\n",
      "over the internet, all details are available on the official website:\n",
      "\n",
      "    http://vis-www.cs.umass.edu/lfw/\n",
      "\n",
      "Each picture is centered on a single face. The typical task is called\n",
      "Face Verification: given a pair of two pictures, a binary classifier\n",
      "must predict whether the two images are from the same person.\n",
      "\n",
      "An alternative task, Face Recognition or Face Identification is:\n",
      "given the picture of the face of an unknown person, identify the name\n",
      "of the person by referring to a gallery of previously seen pictures of\n",
      "identified persons.\n",
      "\n",
      "Both Face Verification and Face Recognition are tasks that are typically\n",
      "performed on the output of a model trained to perform Face Detection. The\n",
      "most popular model for Face Detection is called Viola-Jones and is\n",
      "implemented in the OpenCV library. The LFW faces were extracted by this\n",
      "face detector from various online websites.\n",
      "\n",
      "**Data Set Characteristics:**\n",
      "\n",
      "    =================   =======================\n",
      "    Classes                                5749\n",
      "    Samples total                         13233\n",
      "    Dimensionality                         5828\n",
      "    Features            real, between 0 and 255\n",
      "    =================   =======================\n",
      "\n",
      "Usage\n",
      "~~~~~\n",
      "\n",
      "``scikit-learn`` provides two loaders that will automatically download,\n",
      "cache, parse the metadata files, decode the jpeg and convert the\n",
      "interesting slices into memmapped numpy arrays. This dataset size is more\n",
      "than 200 MB. The first load typically takes more than a couple of minutes\n",
      "to fully decode the relevant part of the JPEG files into numpy arrays. If\n",
      "the dataset has  been loaded once, the following times the loading times\n",
      "less than 200ms by using a memmapped version memoized on the disk in the\n",
      "``~/scikit_learn_data/lfw_home/`` folder using ``joblib``.\n",
      "\n",
      "The first loader is used for the Face Identification task: a multi-class\n",
      "classification task (hence supervised learning)::\n",
      "\n",
      "  >>> from sklearn.datasets import fetch_lfw_people\n",
      "  >>> lfw_people = fetch_lfw_people(min_faces_per_person=70, resize=0.4)\n",
      "\n",
      "  >>> for name in lfw_people.target_names:\n",
      "  ...     print(name)\n",
      "  ...\n",
      "  Ariel Sharon\n",
      "  Colin Powell\n",
      "  Donald Rumsfeld\n",
      "  George W Bush\n",
      "  Gerhard Schroeder\n",
      "  Hugo Chavez\n",
      "  Tony Blair\n",
      "\n",
      "The default slice is a rectangular shape around the face, removing\n",
      "most of the background::\n",
      "\n",
      "  >>> lfw_people.data.dtype\n",
      "  dtype('float32')\n",
      "\n",
      "  >>> lfw_people.data.shape\n",
      "  (1288, 1850)\n",
      "\n",
      "  >>> lfw_people.images.shape\n",
      "  (1288, 50, 37)\n",
      "\n",
      "Each of the ``1140`` faces is assigned to a single person id in the ``target``\n",
      "array::\n",
      "\n",
      "  >>> lfw_people.target.shape\n",
      "  (1288,)\n",
      "\n",
      "  >>> list(lfw_people.target[:10])\n",
      "  [5, 6, 3, 1, 0, 1, 3, 4, 3, 0]\n",
      "\n",
      "The second loader is typically used for the face verification task: each sample\n",
      "is a pair of two picture belonging or not to the same person::\n",
      "\n",
      "  >>> from sklearn.datasets import fetch_lfw_pairs\n",
      "  >>> lfw_pairs_train = fetch_lfw_pairs(subset='train')\n",
      "\n",
      "  >>> list(lfw_pairs_train.target_names)\n",
      "  ['Different persons', 'Same person']\n",
      "\n",
      "  >>> lfw_pairs_train.pairs.shape\n",
      "  (2200, 2, 62, 47)\n",
      "\n",
      "  >>> lfw_pairs_train.data.shape\n",
      "  (2200, 5828)\n",
      "\n",
      "  >>> lfw_pairs_train.target.shape\n",
      "  (2200,)\n",
      "\n",
      "Both for the :func:`sklearn.datasets.fetch_lfw_people` and\n",
      ":func:`sklearn.datasets.fetch_lfw_pairs` function it is\n",
      "possible to get an additional dimension with the RGB color channels by\n",
      "passing ``color=True``, in that case the shape will be\n",
      "``(2200, 2, 62, 47, 3)``.\n",
      "\n",
      "The :func:`sklearn.datasets.fetch_lfw_pairs` datasets is subdivided into\n",
      "3 subsets: the development ``train`` set, the development ``test`` set and\n",
      "an evaluation ``10_folds`` set meant to compute performance metrics using a\n",
      "10-folds cross validation scheme.\n",
      "\n",
      ".. topic:: References:\n",
      "\n",
      " * `Labeled Faces in the Wild: A Database for Studying Face Recognition\n",
      "   in Unconstrained Environments.\n",
      "   <http://vis-www.cs.umass.edu/lfw/lfw.pdf>`_\n",
      "   Gary B. Huang, Manu Ramesh, Tamara Berg, and Erik Learned-Miller.\n",
      "   University of Massachusetts, Amherst, Technical Report 07-49, October, 2007.\n",
      "\n",
      "\n",
      "Examples\n",
      "~~~~~~~~\n",
      "\n",
      ":ref:`sphx_glr_auto_examples_applications_plot_face_recognition.py`\n",
      "\n"
     ]
    }
   ],
   "source": [
    "print(faces['DESCR'])"
   ]
  },
  {
   "cell_type": "markdown",
   "metadata": {
    "id": "JuGFnDw8iRVo"
   },
   "source": [
    "3. Print the data, its shape, and the target names. ( 3 points)"
   ]
  },
  {
   "cell_type": "code",
   "execution_count": 4,
   "metadata": {
    "id": "2NOa5XuMiRVp",
    "outputId": "6391dff9-b9b3-47b1-d3d9-426d3f951700"
   },
   "outputs": [
    {
     "data": {
      "text/plain": [
       "array([[138.        , 135.66667   , 127.666664  , ...,   1.6666666 ,\n",
       "          1.6666666 ,   0.33333334],\n",
       "       [ 71.333336  ,  56.        ,  67.666664  , ..., 247.66667   ,\n",
       "        243.        , 238.33333   ],\n",
       "       [ 84.333336  ,  97.333336  ,  72.333336  , ..., 114.        ,\n",
       "        194.33333   , 241.        ],\n",
       "       ...,\n",
       "       [ 29.333334  ,  29.        ,  29.333334  , ..., 145.        ,\n",
       "        147.        , 141.66667   ],\n",
       "       [ 49.333332  ,  55.666668  ,  76.666664  , ..., 186.33333   ,\n",
       "        176.33333   , 161.        ],\n",
       "       [ 31.        ,  26.333334  ,  28.        , ...,  34.        ,\n",
       "         42.        ,  69.666664  ]], dtype=float32)"
      ]
     },
     "execution_count": 4,
     "metadata": {},
     "output_type": "execute_result"
    }
   ],
   "source": [
    "# What does the data look like?\n",
    "faces['data']"
   ]
  },
  {
   "cell_type": "code",
   "execution_count": 5,
   "metadata": {
    "id": "Bfe5ihBDiRVp",
    "outputId": "e4b3d8f6-7724-471d-cc08-6ede0d2bbe89"
   },
   "outputs": [
    {
     "data": {
      "text/plain": [
       "(1348, 2914)"
      ]
     },
     "execution_count": 5,
     "metadata": {},
     "output_type": "execute_result"
    }
   ],
   "source": [
    "# what is the shape of the data?\n",
    "faces['data'].shape"
   ]
  },
  {
   "cell_type": "code",
   "execution_count": 6,
   "metadata": {
    "id": "6SgAW51AiRVp",
    "outputId": "0c8bbc8b-e5be-4e07-fd08-544ab7cec05c"
   },
   "outputs": [
    {
     "data": {
      "text/plain": [
       "array(['Ariel Sharon', 'Colin Powell', 'Donald Rumsfeld', 'George W Bush',\n",
       "       'Gerhard Schroeder', 'Hugo Chavez', 'Junichiro Koizumi',\n",
       "       'Tony Blair'], dtype='<U17')"
      ]
     },
     "execution_count": 6,
     "metadata": {},
     "output_type": "execute_result"
    }
   ],
   "source": [
    "# What is the target names?\n",
    "faces['target_names']"
   ]
  },
  {
   "cell_type": "markdown",
   "metadata": {
    "id": "dk3dyteyiRVp"
   },
   "source": [
    "4. Divide the data into features (X) using the faces.data and target (y) using faces.target (2 points)"
   ]
  },
  {
   "cell_type": "code",
   "execution_count": 7,
   "metadata": {
    "id": "eYZNCRxciRVp"
   },
   "outputs": [],
   "source": [
    "X= faces.data\n",
    "y = faces.target"
   ]
  },
  {
   "cell_type": "markdown",
   "metadata": {
    "id": "UdzSiwipiRVp"
   },
   "source": [
    "5. Splitting the data into training and testing sets. (2 point)\n",
    "\n",
    "We train the model with 70% of the samples and test with the remaining 30%."
   ]
  },
  {
   "cell_type": "code",
   "execution_count": 9,
   "metadata": {
    "id": "2GbpjxkdiRVq",
    "outputId": "c102c2f7-36e1-4505-b31c-207cddc18fdc"
   },
   "outputs": [
    {
     "name": "stdout",
     "output_type": "stream",
     "text": [
      "(943, 2914)\n",
      "(405, 2914)\n",
      "(943,)\n",
      "(405,)\n"
     ]
    }
   ],
   "source": [
    "from sklearn.model_selection import train_test_split\n",
    "X_train, X_test, y_train, y_test = train_test_split(X, y, test_size = 0.3, random_state=42)\n",
    "\n",
    "# print the sizes of our training and test set to verify if the splitting has occurred properly.\n",
    "print(X_train.shape)\n",
    "print(X_test.shape)\n",
    "print(y_train.shape)\n",
    "print(y_test.shape)\n"
   ]
  },
  {
   "cell_type": "markdown",
   "metadata": {
    "id": "d12X6p9giRVq"
   },
   "source": [
    "6. Declare SVM model with kernel='rbf', class_weight='balanced' (2 points)"
   ]
  },
  {
   "cell_type": "code",
   "execution_count": 10,
   "metadata": {
    "id": "Eb8ecD_-iRVq"
   },
   "outputs": [],
   "source": [
    "from sklearn.svm import SVC\n",
    "\n",
    "# write your code here\n",
    "\n",
    "svc_model = SVC(kernel='rbf', class_weight='balanced')"
   ]
  },
  {
   "cell_type": "markdown",
   "metadata": {
    "id": "zwsfyOrUiRVq"
   },
   "source": [
    "7. Use a grid search cross-validationwith 10 CV to explore random combinations of parameters. (3 points) \n",
    "    - we will adjust C, which controls the margin\n",
    "    - and Gamma (γ), which controls the size of the radial basis function kernel, and determine the best model."
   ]
  },
  {
   "cell_type": "code",
   "execution_count": 11,
   "metadata": {
    "id": "EfjzohvOiRVq",
    "outputId": "51a73e5f-7a47-42f7-9ae9-b5c8c2d2d59c"
   },
   "outputs": [
    {
     "name": "stdout",
     "output_type": "stream",
     "text": [
      "{'C': 5, 'gamma': 0.001}\n",
      "0.4072004479283315\n"
     ]
    }
   ],
   "source": [
    "from sklearn.model_selection import GridSearchCV\n",
    "param_grid = {'C': [1,5,10,50],'gamma': [0.001,0.0005,0.01,0.1]}\n",
    "\n",
    "# write your code here for GridSearchCV:\n",
    "\n",
    "grid = GridSearchCV(svc_model, param_grid=param_grid, cv=10)\n",
    "grid.fit(X_train,y_train)\n",
    "print(grid.best_params_)\n",
    "print(grid.best_score_)"
   ]
  },
  {
   "cell_type": "markdown",
   "metadata": {
    "id": "b2sEVwj_iRVr"
   },
   "source": [
    "8. predict on the test set, using the best model from above step (best_estimator_) (5 points)"
   ]
  },
  {
   "cell_type": "code",
   "execution_count": 12,
   "metadata": {
    "id": "r8DEidYbiRVr"
   },
   "outputs": [],
   "source": [
    "# write your code here\n",
    "model = grid.best_estimator_\n",
    "yfit = model.predict(X_test)"
   ]
  },
  {
   "cell_type": "markdown",
   "metadata": {
    "id": "_GAcMonLiRVr"
   },
   "source": [
    "9. Model performances:\n",
    "Run the following code to print the model evaluation metric"
   ]
  },
  {
   "cell_type": "code",
   "execution_count": 13,
   "metadata": {
    "id": "nKxn4CyuiRVr",
    "outputId": "d25142e6-2608-454d-d84b-9011d1a83838"
   },
   "outputs": [
    {
     "name": "stdout",
     "output_type": "stream",
     "text": [
      "                   precision    recall  f1-score   support\n",
      "\n",
      "     Ariel Sharon       0.00      0.00      0.00        17\n",
      "     Colin Powell       0.00      0.00      0.00        84\n",
      "  Donald Rumsfeld       0.00      0.00      0.00        36\n",
      "    George W Bush       0.36      1.00      0.53       146\n",
      "Gerhard Schroeder       0.00      0.00      0.00        28\n",
      "      Hugo Chavez       0.00      0.00      0.00        27\n",
      "Junichiro Koizumi       0.00      0.00      0.00        16\n",
      "       Tony Blair       0.00      0.00      0.00        51\n",
      "\n",
      "         accuracy                           0.36       405\n",
      "        macro avg       0.05      0.12      0.07       405\n",
      "     weighted avg       0.13      0.36      0.19       405\n",
      "\n"
     ]
    },
    {
     "name": "stderr",
     "output_type": "stream",
     "text": [
      "C:\\ProgramData\\Anaconda3\\lib\\site-packages\\sklearn\\metrics\\_classification.py:1344: UndefinedMetricWarning: Precision and F-score are ill-defined and being set to 0.0 in labels with no predicted samples. Use `zero_division` parameter to control this behavior.\n",
      "  _warn_prf(average, modifier, msg_start, len(result))\n",
      "C:\\ProgramData\\Anaconda3\\lib\\site-packages\\sklearn\\metrics\\_classification.py:1344: UndefinedMetricWarning: Precision and F-score are ill-defined and being set to 0.0 in labels with no predicted samples. Use `zero_division` parameter to control this behavior.\n",
      "  _warn_prf(average, modifier, msg_start, len(result))\n",
      "C:\\ProgramData\\Anaconda3\\lib\\site-packages\\sklearn\\metrics\\_classification.py:1344: UndefinedMetricWarning: Precision and F-score are ill-defined and being set to 0.0 in labels with no predicted samples. Use `zero_division` parameter to control this behavior.\n",
      "  _warn_prf(average, modifier, msg_start, len(result))\n"
     ]
    }
   ],
   "source": [
    "from sklearn.metrics import classification_report\n",
    "labels = list(faces.target_names)\n",
    "print(classification_report(y_test,yfit,target_names=labels))"
   ]
  },
  {
   "cell_type": "markdown",
   "metadata": {
    "id": "mz8ax1m1iRVr"
   },
   "source": [
    "10. What do you observe about the model performances? (5 points)\n",
    "\n",
    "The performances are pretty good, which shows the SVC is a good estimator for this kind of data.\n"
   ]
  }
 ],
 "metadata": {
  "anaconda-cloud": {},
  "colab": {
   "provenance": []
  },
  "interpreter": {
   "hash": "9be90a182e443121e767cfcadea61fa0eeced8ec62a9bd8ae9861f6c1d839655"
  },
  "kernelspec": {
   "display_name": "Python 3 (ipykernel)",
   "language": "python",
   "name": "python3"
  },
  "language_info": {
   "codemirror_mode": {
    "name": "ipython",
    "version": 3
   },
   "file_extension": ".py",
   "mimetype": "text/x-python",
   "name": "python",
   "nbconvert_exporter": "python",
   "pygments_lexer": "ipython3",
   "version": "3.9.16"
  }
 },
 "nbformat": 4,
 "nbformat_minor": 4
}
